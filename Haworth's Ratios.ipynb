{
 "cells": [
  {
   "cell_type": "markdown",
   "id": "9f61d809",
   "metadata": {},
   "source": [
    "## Haworth's Gas Ratios\n",
    "\n",
    "These are very handy mud gas ratios that can be a useful diagnostic tool that can be used whilst drilling or for post drill look backs to determine potential phase and potentially even identifying breached traps.\n",
    "\n",
    "From: Interpreation of Hydrocarbon Shoes Using Light (C1-C5) Hydrocarbon Gases from Mud Log Data\n",
    "J. H. Haworth; M. Smellens; A. Whittacker 1985 AAPG\n",
    "\n",
    "This is probably very in-efficient code and I welcome any feedback.\n",
    "\n",
    "I'd like to thank the great open source work from Andy McDonald (https://github.com/andymcdgeo) for the inspiration and much of the source code on the plots from his excellent Python Petrophysics series."
   ]
  },
  {
   "cell_type": "markdown",
   "id": "7b2c38d1",
   "metadata": {},
   "source": [
    "## Import Libraries"
   ]
  },
  {
   "cell_type": "code",
   "execution_count": 168,
   "id": "2b4633a2",
   "metadata": {},
   "outputs": [],
   "source": [
    "import numpy as np\n",
    "import pandas as pd\n",
    "import matplotlib.pyplot as plt"
   ]
  },
  {
   "cell_type": "markdown",
   "id": "9c54cfb4",
   "metadata": {},
   "source": [
    "## Haworth's Ratio's Equations\n",
    "\n",
    "Ch - Character Calculation:\n",
    "(iC4 + nC4 + C5)/C3\n",
    "\n",
    "Wh - Wetness Calculation:\n",
    "((C2 + C3 + iC4 + nC4 + C5)/(C1 + C2 + C3 + iC4 + nC4 + C5))*100\n",
    "\n",
    "Bh - Balance Calculation:\n",
    "(C1 + C2)/(C3 + iC4 + nC4 + C5)"
   ]
  },
  {
   "cell_type": "markdown",
   "id": "5580d1ec",
   "metadata": {},
   "source": [
    "## Import Data as Pandas DataFrame\n",
    "\n",
    "Here I used a mudlog example from a 2019 drilling campaign.  Column names will require editing depending on your mud log service provider"
   ]
  },
  {
   "cell_type": "code",
   "execution_count": 169,
   "id": "c562b46d",
   "metadata": {},
   "outputs": [],
   "source": [
    "ratios = pd.read_csv('anonymouswell.csv')"
   ]
  },
  {
   "cell_type": "code",
   "execution_count": 170,
   "id": "a5b18369",
   "metadata": {},
   "outputs": [
    {
     "data": {
      "text/html": [
       "<div>\n",
       "<style scoped>\n",
       "    .dataframe tbody tr th:only-of-type {\n",
       "        vertical-align: middle;\n",
       "    }\n",
       "\n",
       "    .dataframe tbody tr th {\n",
       "        vertical-align: top;\n",
       "    }\n",
       "\n",
       "    .dataframe thead th {\n",
       "        text-align: right;\n",
       "    }\n",
       "</style>\n",
       "<table border=\"1\" class=\"dataframe\">\n",
       "  <thead>\n",
       "    <tr style=\"text-align: right;\">\n",
       "      <th></th>\n",
       "      <th>Bit Depth</th>\n",
       "      <th>TVD Depth</th>\n",
       "      <th>ROP</th>\n",
       "      <th>ROP m/hr</th>\n",
       "      <th>WOB</th>\n",
       "      <th>WOH</th>\n",
       "      <th>RPM</th>\n",
       "      <th>TORQUE</th>\n",
       "      <th>SPP</th>\n",
       "      <th>FLWpmps T</th>\n",
       "      <th>GAS main</th>\n",
       "      <th>C1</th>\n",
       "      <th>C2</th>\n",
       "      <th>C3</th>\n",
       "      <th>iC4</th>\n",
       "      <th>nC4</th>\n",
       "      <th>iC5</th>\n",
       "      <th>nC5</th>\n",
       "      <th>H2S</th>\n",
       "      <th>CO2</th>\n",
       "    </tr>\n",
       "  </thead>\n",
       "  <tbody>\n",
       "    <tr>\n",
       "      <th>0</th>\n",
       "      <td>12.5</td>\n",
       "      <td>39.68</td>\n",
       "      <td>4.12</td>\n",
       "      <td>14.57</td>\n",
       "      <td>2.2</td>\n",
       "      <td>65.3</td>\n",
       "      <td>70</td>\n",
       "      <td>600</td>\n",
       "      <td>180</td>\n",
       "      <td>319</td>\n",
       "      <td>0.0</td>\n",
       "      <td>0</td>\n",
       "      <td>0</td>\n",
       "      <td>0</td>\n",
       "      <td>0</td>\n",
       "      <td>0</td>\n",
       "      <td>0</td>\n",
       "      <td>0</td>\n",
       "      <td>3</td>\n",
       "      <td>0.4</td>\n",
       "    </tr>\n",
       "    <tr>\n",
       "      <th>1</th>\n",
       "      <td>13.0</td>\n",
       "      <td>40.17</td>\n",
       "      <td>3.38</td>\n",
       "      <td>17.73</td>\n",
       "      <td>1.7</td>\n",
       "      <td>40.0</td>\n",
       "      <td>71</td>\n",
       "      <td>657</td>\n",
       "      <td>172</td>\n",
       "      <td>248</td>\n",
       "      <td>0.0</td>\n",
       "      <td>0</td>\n",
       "      <td>0</td>\n",
       "      <td>0</td>\n",
       "      <td>0</td>\n",
       "      <td>0</td>\n",
       "      <td>0</td>\n",
       "      <td>0</td>\n",
       "      <td>2</td>\n",
       "      <td>0.0</td>\n",
       "    </tr>\n",
       "    <tr>\n",
       "      <th>2</th>\n",
       "      <td>13.5</td>\n",
       "      <td>40.64</td>\n",
       "      <td>3.20</td>\n",
       "      <td>18.76</td>\n",
       "      <td>1.6</td>\n",
       "      <td>40.2</td>\n",
       "      <td>71</td>\n",
       "      <td>578</td>\n",
       "      <td>167</td>\n",
       "      <td>248</td>\n",
       "      <td>0.0</td>\n",
       "      <td>0</td>\n",
       "      <td>0</td>\n",
       "      <td>0</td>\n",
       "      <td>0</td>\n",
       "      <td>0</td>\n",
       "      <td>0</td>\n",
       "      <td>0</td>\n",
       "      <td>2</td>\n",
       "      <td>0.0</td>\n",
       "    </tr>\n",
       "    <tr>\n",
       "      <th>3</th>\n",
       "      <td>14.0</td>\n",
       "      <td>41.13</td>\n",
       "      <td>3.25</td>\n",
       "      <td>18.43</td>\n",
       "      <td>1.2</td>\n",
       "      <td>40.6</td>\n",
       "      <td>71</td>\n",
       "      <td>555</td>\n",
       "      <td>167</td>\n",
       "      <td>248</td>\n",
       "      <td>0.0</td>\n",
       "      <td>0</td>\n",
       "      <td>0</td>\n",
       "      <td>0</td>\n",
       "      <td>0</td>\n",
       "      <td>0</td>\n",
       "      <td>0</td>\n",
       "      <td>0</td>\n",
       "      <td>2</td>\n",
       "      <td>0.0</td>\n",
       "    </tr>\n",
       "    <tr>\n",
       "      <th>4</th>\n",
       "      <td>14.5</td>\n",
       "      <td>41.60</td>\n",
       "      <td>3.20</td>\n",
       "      <td>18.76</td>\n",
       "      <td>1.1</td>\n",
       "      <td>40.6</td>\n",
       "      <td>71</td>\n",
       "      <td>563</td>\n",
       "      <td>169</td>\n",
       "      <td>248</td>\n",
       "      <td>0.0</td>\n",
       "      <td>0</td>\n",
       "      <td>0</td>\n",
       "      <td>0</td>\n",
       "      <td>0</td>\n",
       "      <td>0</td>\n",
       "      <td>0</td>\n",
       "      <td>0</td>\n",
       "      <td>2</td>\n",
       "      <td>0.0</td>\n",
       "    </tr>\n",
       "  </tbody>\n",
       "</table>\n",
       "</div>"
      ],
      "text/plain": [
       "   Bit Depth  TVD Depth   ROP  ROP m/hr  WOB   WOH  RPM  TORQUE  SPP  \\\n",
       "0       12.5      39.68  4.12     14.57  2.2  65.3   70     600  180   \n",
       "1       13.0      40.17  3.38     17.73  1.7  40.0   71     657  172   \n",
       "2       13.5      40.64  3.20     18.76  1.6  40.2   71     578  167   \n",
       "3       14.0      41.13  3.25     18.43  1.2  40.6   71     555  167   \n",
       "4       14.5      41.60  3.20     18.76  1.1  40.6   71     563  169   \n",
       "\n",
       "   FLWpmps T  GAS main  C1  C2  C3  iC4  nC4  iC5  nC5  H2S  CO2  \n",
       "0        319       0.0   0   0   0    0    0    0    0    3  0.4  \n",
       "1        248       0.0   0   0   0    0    0    0    0    2  0.0  \n",
       "2        248       0.0   0   0   0    0    0    0    0    2  0.0  \n",
       "3        248       0.0   0   0   0    0    0    0    0    2  0.0  \n",
       "4        248       0.0   0   0   0    0    0    0    0    2  0.0  "
      ]
     },
     "execution_count": 170,
     "metadata": {},
     "output_type": "execute_result"
    }
   ],
   "source": [
    "ratios.head()"
   ]
  },
  {
   "cell_type": "markdown",
   "id": "b4a93172",
   "metadata": {},
   "source": [
    "## Data may require cleaning\n",
    "\n",
    "This dataset didn't have any -999 style errors but units of measurement had become confused in the main dataframe which required editing out"
   ]
  },
  {
   "cell_type": "code",
   "execution_count": 171,
   "id": "d2abf003",
   "metadata": {},
   "outputs": [
    {
     "data": {
      "text/plain": [
       "'ratios = ratios.replace(\\'m\\', np.nan)\\nratios.dropna(subset = [\"Bit Depth\"], inplace=True)\\nratios.tail()'"
      ]
     },
     "execution_count": 171,
     "metadata": {},
     "output_type": "execute_result"
    }
   ],
   "source": [
    "\"\"\"ratios = ratios.replace('m', np.nan)\n",
    "ratios.dropna(subset = [\"Bit Depth\"], inplace=True)\n",
    "ratios.tail()\"\"\""
   ]
  },
  {
   "cell_type": "markdown",
   "id": "74c2e933",
   "metadata": {},
   "source": [
    "## Create new columns\n",
    "\n",
    "These are associated with the respective mud gas ratios"
   ]
  },
  {
   "cell_type": "code",
   "execution_count": 172,
   "id": "2ba56e0c",
   "metadata": {},
   "outputs": [],
   "source": [
    "ratios['Character'] = (ratios['iC4'] + ratios['nC4'] + ratios['iC5'] + ratios['nC5']) / ratios['C3']"
   ]
  },
  {
   "cell_type": "code",
   "execution_count": 173,
   "id": "db6812fc",
   "metadata": {},
   "outputs": [],
   "source": [
    "ratios['Wetness'] = ((ratios['C2'] + ratios['C3'] + ratios['iC4'] + ratios['nC4'] + ratios['iC5'] + ratios['nC5']) / (ratios['C1'] + ratios['C2'] + ratios['C3'] + ratios['iC4'] + ratios['nC4'] + ratios['iC5'] + ratios['nC5'])) * 100"
   ]
  },
  {
   "cell_type": "code",
   "execution_count": 174,
   "id": "f0558d4e",
   "metadata": {},
   "outputs": [],
   "source": [
    "ratios['Balance'] = (ratios['C1'] + ratios['C2']) / (ratios['C3'] + ratios['iC4'] + ratios['nC4']+ ratios['iC5'] + ratios['nC5'])"
   ]
  },
  {
   "cell_type": "markdown",
   "id": "0c7a5466",
   "metadata": {},
   "source": [
    "## Ratio Interpretation\n",
    "\n",
    "Primary\tmeans of interp is Wetness.\n",
    "\n",
    "Created a simple logic test (\"&\" required for multiple conditions in the function instead of \"and\") replaced the string with integers for the plotting dictionary later but can be left the same and edit the keys if you prefer the definitions in the dataframe"
   ]
  },
  {
   "cell_type": "code",
   "execution_count": 175,
   "id": "a9bdc77d",
   "metadata": {},
   "outputs": [],
   "source": [
    "def wetness(Wh):\n",
    "    \n",
    "    #<0.5 V. Dry Gas\n",
    "\n",
    "    #0.5-17.5 Gas, density increases with Wh\n",
    "\n",
    "    #17.5-40 Oil Density Increases with Wh\n",
    "\n",
    "    #>40 Residual Oil\n",
    "    \n",
    "    if Wh < 0.5:\n",
    "        return 1 #'Very Dry Gas'\n",
    "    elif (Wh > 0.5) & (Wh < 17.5):\n",
    "        return 2 #'Gas, Density increases with Wh'\n",
    "    elif (Wh > 17.5) & (Wh < 40): \n",
    "        return 3 #'Oil Density Increases with Wh'\n",
    "    elif Wh > 40:\n",
    "        return 4 #'Residual Oil'\n",
    "    else:\n",
    "        pass"
   ]
  },
  {
   "cell_type": "code",
   "execution_count": 176,
   "id": "53db0b60",
   "metadata": {},
   "outputs": [],
   "source": [
    "ratios[\"Wh_check\"] = ratios.apply(lambda row: wetness(row.Wetness), axis=1)"
   ]
  },
  {
   "cell_type": "markdown",
   "id": "146b0dca",
   "metadata": {},
   "source": [
    "Bh>Wh\n",
    "Gas/Oil or Gas/Condensate\n",
    "Gas Density increases as curves converge\n",
    "\n",
    "Bh<Wh\n",
    "Oil density increases as curves converge\n",
    "Residual Oil"
   ]
  },
  {
   "cell_type": "code",
   "execution_count": 177,
   "id": "0e50aca9",
   "metadata": {},
   "outputs": [],
   "source": [
    "def balance(Bh, Wh):\n",
    "    \n",
    "    if Bh > Wh:\n",
    "        return 5 #'Gas/Oil or Gas/Condensate Gas Density Increases as Curves Converge'\n",
    "    elif Bh < Wh:\n",
    "        return 6 #'Oil Density increases as curves converge residual oil'\n",
    "    else:\n",
    "        pass"
   ]
  },
  {
   "cell_type": "code",
   "execution_count": 178,
   "id": "f03cc037",
   "metadata": {},
   "outputs": [],
   "source": [
    "ratios[\"Bh_check\"] = ratios.apply(lambda row: balance(row.Balance, row.Wetness), axis=1)"
   ]
  },
  {
   "cell_type": "markdown",
   "id": "679603e4",
   "metadata": {},
   "source": [
    "Ch <0.5\n",
    "Predicted Gas is correct\n",
    "\n",
    "Ch >0.5\n",
    "Gas is associated with oil"
   ]
  },
  {
   "cell_type": "code",
   "execution_count": 179,
   "id": "5a43f984",
   "metadata": {},
   "outputs": [],
   "source": [
    "def character(Ch):\n",
    "    \n",
    "    if Ch < 0.5:\n",
    "        return 7 #'Predicted Gas is correct'\n",
    "    elif Ch > 0.5:\n",
    "        return 8 #'Gas is associated with oil'\n",
    "    else:\n",
    "        pass"
   ]
  },
  {
   "cell_type": "code",
   "execution_count": 180,
   "id": "e6946bee",
   "metadata": {},
   "outputs": [],
   "source": [
    "ratios[\"Ch_check\"] = ratios.apply(lambda row: character(row.Character), axis=1)"
   ]
  },
  {
   "cell_type": "markdown",
   "id": "4dac44f4",
   "metadata": {},
   "source": [
    "## Plotting\n",
    "\n",
    "Simple plot to show the gas units in place"
   ]
  },
  {
   "cell_type": "code",
   "execution_count": 181,
   "id": "9da63d12",
   "metadata": {},
   "outputs": [
    {
     "data": {
      "image/png": "[encoded data removed]",
      "text/plain": [
       "<Figure size 432x288 with 1 Axes>"
      ]
     },
     "metadata": {
      "needs_background": "light"
     },
     "output_type": "display_data"
    }
   ],
   "source": [
    "# line 1 points\n",
    "x1 = ratios[\"C1\"]\n",
    "y1 = ratios[\"TVD Depth\"]\n",
    "# plotting the line 1 points \n",
    "plt.plot(x1, y1, label = \"C1\")\n",
    "# line 2 points\n",
    "x2 = ratios[\"C2\"]\n",
    "y2 = ratios[\"TVD Depth\"]\n",
    "# plotting the line 2 points \n",
    "plt.plot(x2, y2, label = \"C2\")\n",
    "# line 3 points\n",
    "x3 = ratios[\"C3\"]\n",
    "y3 = ratios[\"TVD Depth\"]\n",
    "# plotting the line 3 points \n",
    "plt.plot(x3, y3, label = \"C3\")\n",
    "# line 4 points\n",
    "x4 = ratios[\"iC4\"]\n",
    "y4 = ratios[\"TVD Depth\"]\n",
    "plt.plot(x4, y4, label = \"iC4\")\n",
    "# plotting the line 3 points\n",
    "x5 = ratios[\"nC4\"]\n",
    "y5 = ratios[\"TVD Depth\"]\n",
    "plt.plot(x5, y5, label = \"nC4\")\n",
    "x6 = ratios[\"iC5\"]\n",
    "y6 = ratios[\"TVD Depth\"]\n",
    "plt.plot(x6, y6, label = \"iC5\")\n",
    "x7 = ratios[\"nC5\"]\n",
    "y7 = ratios[\"TVD Depth\"]\n",
    "plt.plot(x7, y7, label = \"iC5\")\n",
    "\n",
    "plt.xlabel(\"Gas Content\")\n",
    "# Set the y axis label of the current axis.\n",
    "plt.ylabel('Depth (m)')\n",
    "# Set a title of the current axes.\n",
    "plt.title('Depth vs Gas')\n",
    "# show a legend on the plot\n",
    "plt.legend()\n",
    "# Display a figure\n",
    "plt.gca().invert_yaxis()\n",
    "plt.show()"
   ]
  },
  {
   "cell_type": "markdown",
   "id": "c43186a9",
   "metadata": {},
   "source": [
    "## Dictionary Definition of Ratio Response\n",
    "\n",
    "Create a simple dictionary of responses and corresponding colors that relate to the logic tests. This can be changed if you prefer the descriptions mentioned above."
   ]
  },
  {
   "cell_type": "code",
   "execution_count": 182,
   "id": "05405f77",
   "metadata": {},
   "outputs": [],
   "source": [
    "ratio_fluids = {1: {'fluid_num':'Very Dry Gas', 'color':'red'}, #'Very Dry Gas'\n",
    "                 2: {'fluid_num':'Gas, Density \\n increases with Wh', 'color':'pink'}, #'Gas, Density increases with Wh'\n",
    "                 3: {'fluid_num':'Oil, Density \\n Increases with Wh', 'color':'lime'}, #'Oil Density Increases with Wh'\n",
    "                 4: {'fluid_num':'Residual Oil', 'color':'darkgreen'}, #'Residual Oil'\n",
    "                 5: {'fluid_num':'Gas/Oil or Gas/Condensate \\n Gas Density Increases \\n as Curves Converge', 'color':'orange'}, #'Gas/Oil or Gas/Condensate Gas Density Increases as Curves Converge'\n",
    "                 6: {'fluid_num':'Oil Density \\n increases as curves \\n converge residual oil', 'color':'teal'}, #'Oil Density increases as curves converge residual oil'\n",
    "                 7: {'fluid_num':'Predicted Gas is correct', 'color':'yellow'}, #'Predicted Gas is correct'\n",
    "                 8: {'fluid_num':'Gas is associated with oil', 'color':'blue'}, #'Gas is associated with oil'\n",
    "                 }"
   ]
  },
  {
   "cell_type": "markdown",
   "id": "5338dbc2",
   "metadata": {},
   "source": [
    "## Main Plots\n",
    "\n",
    "Create sub-plots that reference the keys and corresponding reference columns"
   ]
  },
  {
   "cell_type": "code",
   "execution_count": 183,
   "id": "aac8b5cb",
   "metadata": {},
   "outputs": [],
   "source": [
    "def makeplot(well, top_depth, bottom_depth):\n",
    "    fig, ax = plt.subplots(figsize=(15,10))\n",
    "\n",
    "    #Set up the plot axes\n",
    "    ax1 = plt.subplot2grid((1,4), (0,0), rowspan=1, colspan = 1)\n",
    "    ax2 = ax1.twiny()\n",
    "    ax3 = plt.subplot2grid((1,4), (0,1), rowspan=1, colspan = 1, sharey = ax1)\n",
    "    ax4 = plt.subplot2grid((1,4), (0,2), rowspan=1, colspan = 1, sharey = ax1)\n",
    "    ax5 = plt.subplot2grid((1,4), (0,3), rowspan=1, colspan = 1, sharey = ax1)\n",
    "\n",
    "    # Wh curve\n",
    "    ax1.plot(ratios[\"Wetness\"], ratios['TVD Depth'], color = \"green\", linewidth = 0.5)\n",
    "    ax1.set_xlabel(\"Wetness Curve\")\n",
    "    ax1.xaxis.label.set_color(\"green\")\n",
    "    ax1.set_xscale('log')\n",
    "    ax1.set_xlim(0.1, 1)\n",
    "    ax1.set_ylabel(\"Depth (m)\")\n",
    "    ax1.tick_params(axis='x', colors=\"green\")\n",
    "    ax1.spines[\"top\"].set_edgecolor(\"green\")\n",
    "    ax1.title.set_color('green')\n",
    "    ax1.set_xticks([1, 10, 100])\n",
    "    \n",
    "    # Bh Curve\n",
    "    ax2.plot(well[\"Balance\"], ratios['TVD Depth'], color = \"orange\", linewidth = 0.5)\n",
    "    ax2.set_xlabel(\"Balance Curve\")\n",
    "    ax2.set_xscale('log')\n",
    "    ax2.set_xlim(0.1, 1)\n",
    "    ax2.xaxis.label.set_color(\"orange\")\n",
    "    ax2.tick_params(axis='x', colors=\"orange\")\n",
    "    ax2.spines[\"top\"].set_edgecolor(\"orange\")\n",
    "    ax2.set_xticks([1, 10, 100])\n",
    "\n",
    "    # Wetness\n",
    "    ax3.plot(ratios[\"Wh_check\"], ratios['TVD Depth'], color = \"black\", linewidth = 0.5)\n",
    "    ax3.set_xlabel(\"Wh\")\n",
    "    ax3.set_xlim(0, 1)\n",
    "    ax3.xaxis.label.set_color(\"black\")\n",
    "    ax3.tick_params(axis='x', colors=\"black\")\n",
    "    ax3.spines[\"top\"].set_edgecolor(\"black\")\n",
    "\n",
    "    for key in ratio_fluids.keys():\n",
    "        color = ratio_fluids[key]['color']\n",
    "        ax3.fill_betweenx(ratios['TVD Depth'], 0, ratios['Wh_check'], where=(ratios['Wh_check']==key),\n",
    "                         facecolor=color)\n",
    "\n",
    "    # Balance\n",
    "    ax4.plot(ratios[\"Bh_check\"], ratios['TVD Depth'], color = \"black\", linewidth = 0.5)\n",
    "    ax4.set_xlabel(\"Bh\")\n",
    "    ax4.set_xlim(0, 1)\n",
    "    ax4.xaxis.label.set_color(\"black\")\n",
    "    ax4.tick_params(axis='x', colors=\"black\")\n",
    "    ax4.spines[\"top\"].set_edgecolor(\"black\")\n",
    "\n",
    "    for key in ratio_fluids.keys():\n",
    "        color = ratio_fluids[key]['color']\n",
    "        ax4.fill_betweenx(ratios['TVD Depth'], 0, ratios['Bh_check'], where=(ratios['Bh_check']==key),\n",
    "                         facecolor=color)\n",
    "    \n",
    "    # Character\n",
    "    ax5.plot(ratios[\"Ch_check\"], ratios['TVD Depth'], color = \"black\", linewidth = 0.5)\n",
    "    ax5.set_xlabel(\"Ch\")\n",
    "    ax5.set_xlim(0, 1)\n",
    "    ax5.xaxis.label.set_color(\"black\")\n",
    "    ax5.tick_params(axis='x', colors=\"black\")\n",
    "    ax5.spines[\"top\"].set_edgecolor(\"black\")\n",
    "\n",
    "        \n",
    "    for key in ratio_fluids.keys():\n",
    "        color = ratio_fluids[key]['color']\n",
    "        ax5.fill_betweenx(ratios['TVD Depth'], 0, ratios['Ch_check'], where=(ratios['Ch_check']==key),\n",
    "                         facecolor=color) \n",
    "\n",
    "    ax3.set_xticks([0, 1])\n",
    "    ax4.set_xticks([0, 1])\n",
    "    ax5.set_xticks([0, 1])\n",
    "\n",
    "    # Common functions for setting up the plot can be extracted into\n",
    "    # a for loop. This saves repeating code.\n",
    "    for ax in [ax3, ax4, ax5]:\n",
    "        ax.set_ylim(bottom_depth, top_depth)\n",
    "        ax.grid(which='major', color='lightgrey', linestyle='-')\n",
    "        ax.xaxis.set_ticks_position(\"top\")\n",
    "        ax.xaxis.set_label_position(\"top\")\n",
    "        ax.spines[\"top\"].set_position((\"axes\", 1.02))\n",
    "        \n",
    "        \n",
    "    for ax in [ax3, ax4, ax5]:\n",
    "        plt.setp(ax.get_yticklabels(), visible = False)\n",
    "        \n",
    "    plt.tight_layout()\n",
    "    fig.subplots_adjust(wspace = 0.15)"
   ]
  },
  {
   "cell_type": "code",
   "execution_count": 184,
   "id": "30625c2b",
   "metadata": {},
   "outputs": [
    {
     "data": {
      "image/png": "[encoded data removed]",
      "text/plain": [
       "<Figure size 1080x720 with 5 Axes>"
      ]
     },
     "metadata": {},
     "output_type": "display_data"
    }
   ],
   "source": [
    "makeplot(ratios, 750, 2000) # args are dataframe, top depth and base depth"
   ]
  },
  {
   "cell_type": "markdown",
   "id": "b88e981a",
   "metadata": {},
   "source": [
    "## Insert Legend Chart"
   ]
  },
  {
   "cell_type": "code",
   "execution_count": 110,
   "id": "f1fcb740",
   "metadata": {},
   "outputs": [
    {
     "data": {
      "image/png": "[encoded data removed]",
      "text/plain": [
       "<Figure size 720x360 with 8 Axes>"
      ]
     },
     "metadata": {},
     "output_type": "display_data"
    }
   ],
   "source": [
    "y = [0, 1]\n",
    "x = [1, 1]\n",
    "\n",
    "fig, axes = plt.subplots(ncols=4,nrows=2, sharex=True, sharey=True,\n",
    "                         figsize=(10,5), subplot_kw={'xticks': [], 'yticks': []})\n",
    "\n",
    "for ax, key in zip(axes.flat, ratio_fluids.keys()):\n",
    "    ax.plot(x, y)\n",
    "    ax.fill_betweenx(y, 0, 1, facecolor=ratio_fluids[key]['color'])\n",
    "    ax.set_xlim(0, 0.1)\n",
    "    ax.set_ylim(0, 1)\n",
    "    ax.set_title(str(ratio_fluids[key]['fluid_num']))\n",
    "\n",
    "plt.tight_layout()\n",
    "\n",
    "plt.show()"
   ]
  }
 ],
 "metadata": {
  "kernelspec": {
   "display_name": "Python 3",
   "language": "python",
   "name": "python3"
  },
  "language_info": {
   "codemirror_mode": {
    "name": "ipython",
    "version": 3
   },
   "file_extension": ".py",
   "mimetype": "text/x-python",
   "name": "python",
   "nbconvert_exporter": "python",
   "pygments_lexer": "ipython3",
   "version": "3.8.8"
  }
 },
 "nbformat": 4,
 "nbformat_minor": 5
}
